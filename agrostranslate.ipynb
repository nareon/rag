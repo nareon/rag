{
 "cells": [
  {
   "cell_type": "code",
   "execution_count": null,
   "id": "09c187db",
   "metadata": {},
   "outputs": [],
   "source": [
    "# Установка моделей en-ru & ru-en\n",
    "from argostranslate import package\n",
    "package.update_package_index()\n",
    "pkgs = package.get_available_packages()\n",
    "\n",
    "for fr,to in ((\"ru\",\"en\"),(\"en\",\"ru\")):\n",
    "    m = next(p for p in pkgs if p.from_code==fr and p.to_code==to)\n",
    "    path = m.download()\n",
    "    package.install_from_path(path)\n",
    "print(\"OK\")"
   ]
  },
  {
   "cell_type": "code",
   "execution_count": 1,
   "id": "b986dec9",
   "metadata": {},
   "outputs": [
    {
     "name": "stderr",
     "output_type": "stream",
     "text": [
      "/home/ol/.venv/lib/python3.10/site-packages/tqdm/auto.py:21: TqdmWarning: IProgress not found. Please update jupyter and ipywidgets. See https://ipywidgets.readthedocs.io/en/stable/user_install.html\n",
      "  from .autonotebook import tqdm as notebook_tqdm\n"
     ]
    },
    {
     "name": "stdout",
     "output_type": "stream",
     "text": [
      "How to connect Telegram to Rasa?\n",
      "Установить Rasa с помощью pip\n"
     ]
    }
   ],
   "source": [
    "# тест\n",
    "from argostranslate import translate\n",
    "\n",
    "langs = translate.get_installed_languages()\n",
    "ru = next(l for l in langs if l.code == \"ru\")\n",
    "en = next(l for l in langs if l.code == \"en\")\n",
    "\n",
    "to_en = ru.get_translation(en)\n",
    "to_ru = en.get_translation(ru)\n",
    "\n",
    "print(to_en.translate(\"Как подключить Telegram к Rasa?\"))\n",
    "print(to_ru.translate(\"Install Rasa using pip\"))"
   ]
  },
  {
   "cell_type": "code",
   "execution_count": 2,
   "id": "6363d5e4",
   "metadata": {},
   "outputs": [
    {
     "name": "stdout",
     "output_type": "stream",
     "text": [
      "[('en', 'English'), ('ru', 'Russian')]\n"
     ]
    }
   ],
   "source": [
    "# тестирование, если не находит языки\n",
    "from argostranslate import translate\n",
    "print([(l.code, l.name) for l in translate.get_installed_languages()])\n"
   ]
  }
 ],
 "metadata": {
  "kernelspec": {
   "display_name": ".venv",
   "language": "python",
   "name": "python3"
  },
  "language_info": {
   "codemirror_mode": {
    "name": "ipython",
    "version": 3
   },
   "file_extension": ".py",
   "mimetype": "text/x-python",
   "name": "python",
   "nbconvert_exporter": "python",
   "pygments_lexer": "ipython3",
   "version": "3.10.16"
  }
 },
 "nbformat": 4,
 "nbformat_minor": 5
}
