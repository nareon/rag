{
 "cells": [
  {
   "cell_type": "code",
   "execution_count": 1,
   "id": "d24abd67",
   "metadata": {},
   "outputs": [
    {
     "name": "stdout",
     "output_type": "stream",
     "text": [
      "200 OK\n",
      "{\"id\":\"chatcmpl-c8c574c0ad6f42fd8ccddf46a28d3d2c\",\"object\":\"chat.completion\",\"created\":1761817672,\"model\":\"Qwen/Qwen2.5-3B-Instruct\",\"choices\":[{\"index\":0,\"message\":{\"role\":\"assistant\",\"content\":\"Тест\",\"refusal\":null,\"annotations\":null,\"audio\":null,\"function_call\":null,\"tool_calls\":[],\"reasoning_content\":null},\"logprobs\":null,\"finish_reason\":\"stop\",\"stop_reason\":null,\"token_ids\":null}],\"service_tier\":null,\"system_fingerprint\":null,\"usage\":{\"prompt_tokens\":27,\"total_tokens\":30,\"completion_tokens\":3,\"prompt_tokens_details\":null},\"prompt_logprobs\":null,\"prompt_token_ids\":null,\"kv_transfer_params\":null}\n"
     ]
    }
   ],
   "source": [
    "import requests, json\n",
    "BASE=\"http://192.168.1.66:8000/v1\"\n",
    "data={\n",
    "  \"model\":\"Qwen/Qwen2.5-3B-Instruct\",\n",
    "  \"messages\":[\n",
    "    {\"role\":\"system\",\"content\":\"You are a helpful assistant.\"},\n",
    "    {\"role\":\"user\",\"content\":\"Скажи одно слово: тест\"}\n",
    "  ],\n",
    "  \"max_tokens\":128,\n",
    "  \"temperature\":0.7\n",
    "}\n",
    "r=requests.post(f\"{BASE}/chat/completions\", json=data, timeout=30)\n",
    "print(r.status_code, r.reason); print(r.text)\n"
   ]
  }
 ],
 "metadata": {
  "kernelspec": {
   "display_name": ".venv",
   "language": "python",
   "name": "python3"
  },
  "language_info": {
   "codemirror_mode": {
    "name": "ipython",
    "version": 3
   },
   "file_extension": ".py",
   "mimetype": "text/x-python",
   "name": "python",
   "nbconvert_exporter": "python",
   "pygments_lexer": "ipython3",
   "version": "3.10.16"
  }
 },
 "nbformat": 4,
 "nbformat_minor": 5
}
